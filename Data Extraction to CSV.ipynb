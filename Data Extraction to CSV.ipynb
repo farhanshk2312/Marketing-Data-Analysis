{
 "cells": [
  {
   "cell_type": "code",
   "execution_count": 5,
   "id": "7ca5cb09",
   "metadata": {},
   "outputs": [
    {
     "name": "stdout",
     "output_type": "stream",
     "text": [
      "CSV exported successfully!\n"
     ]
    },
    {
     "name": "stderr",
     "output_type": "stream",
     "text": [
      "<>:8: SyntaxWarning: invalid escape sequence '\\S'\n",
      "<>:8: SyntaxWarning: invalid escape sequence '\\S'\n",
      "C:\\Users\\farhan\\AppData\\Local\\Temp\\ipykernel_23424\\200472500.py:8: SyntaxWarning: invalid escape sequence '\\S'\n",
      "  \"SERVER=DESKTOP-NN982MH\\SQLEXPRESS;\"\n"
     ]
    }
   ],
   "source": [
    "import pandas as pd\n",
    "from sqlalchemy import create_engine\n",
    "import urllib\n",
    "\n",
    "# Connection string (adjust to your server & DB)\n",
    "conn_str = (\n",
    "    \"DRIVER={ODBC Driver 17 for SQL Server};\"\n",
    "    \"SERVER=DESKTOP-NN982MH\\SQLEXPRESS;\"\n",
    "    \"DATABASE=PortfolioProject_MarketingAnalytics;\"\n",
    "    \"Trusted_Connection=yes;\"\n",
    ")\n",
    "params = urllib.parse.quote_plus(conn_str)\n",
    "engine = create_engine(f\"mssql+pyodbc:///?odbc_connect={params}\")\n",
    "\n",
    "# Load table into dataframe\n",
    "df = pd.read_sql(\"SELECT * FROM dbo.products\", engine)\n",
    "\n",
    "# Save to CSV\n",
    "df.to_csv(\"products.csv\", index=False)\n",
    "print(\"CSV exported successfully!\")\n"
   ]
  }
 ],
 "metadata": {
  "kernelspec": {
   "display_name": "Python 3",
   "language": "python",
   "name": "python3"
  },
  "language_info": {
   "codemirror_mode": {
    "name": "ipython",
    "version": 3
   },
   "file_extension": ".py",
   "mimetype": "text/x-python",
   "name": "python",
   "nbconvert_exporter": "python",
   "pygments_lexer": "ipython3",
   "version": "3.13.5"
  }
 },
 "nbformat": 4,
 "nbformat_minor": 5
}
